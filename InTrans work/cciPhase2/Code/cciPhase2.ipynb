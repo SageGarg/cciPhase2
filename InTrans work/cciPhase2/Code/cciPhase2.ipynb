{
 "cells": [
  {
   "cell_type": "markdown",
   "metadata": {},
   "source": [
    "# Making Bounding Box"
   ]
  },
  {
   "cell_type": "code",
   "execution_count": null,
   "metadata": {},
   "outputs": [],
   "source": [
    "import cv2\n",
    "from matplotlib import pyplot as plt\n",
    "\n",
    "def draw_and_show_bounding_box(image_path, box_coordinates):\n",
    "    # Load the image\n",
    "    image = cv2.imread(image_path)\n",
    "    print(image.shape)\n",
    "    image = cv2.cvtColor(image, cv2.COLOR_BGR2RGB)  # Convert from BGR to RGB\n",
    "    # hsv_roi = cv2.cvtColor(roi, cv2.COLOR_BGR2HSV)\n",
    "    # Draw the bounding box\n",
    "    x, y, width, height = box_coordinates\n",
    "    roi = image[y:y+height, x:x+width]\n",
    "    hsv_roi = cv2.cvtColor(roi, cv2.COLOR_BGR2HSV)\n",
    "    cv2.rectangle(image, (x, y), (x + width, y + height), (0, 255, 0), 2)\n",
    "    # Convert ROI from BGR to RGB (matplotlib displays in RGB)\n",
    "    # roi_rgb = cv2.cvtColor(roi, cv2.COLOR_BGR2RGB)\n",
    "    plt.imshow(roi)\n",
    "    plt.axis('on')  # Hide the axis\n",
    "    plt.show()\n",
    "    # Use matplotlib to display the image\n",
    "    plt.imshow(image)\n",
    "    plt.show()\n",
    "    plt.imshow(hsv_roi)\n",
    "    plt.show()\n",
    "\n",
    "# Usage\n",
    "image_path = r\"401055cam_1 00--03/frame_1887.jpg\"\n",
    "box_coordinates = (480, 74, 10, 10)\n",
    "#box_coordinates = (1758, 148, 12, 12)\n",
    "draw_and_show_bounding_box(image_path, box_coordinates)"
   ]
  },
  {
   "cell_type": "markdown",
   "metadata": {},
   "source": [
    "# Finding Frames of the particular hour."
   ]
  },
  {
   "cell_type": "code",
   "execution_count": 2,
   "metadata": {},
   "outputs": [
    {
     "name": "stdout",
     "output_type": "stream",
     "text": [
      "1.0\n",
      "2\n",
      "3\n",
      "4\n",
      "5\n",
      "Total frames extracted: 108000 \n"
     ]
    }
   ],
   "source": [
    "import cv2\n",
    "import os\n",
    "\n",
    "def extract_frames(video_path, output_folder):\n",
    "    # Create output folder if it doesn't exist\n",
    "    if not os.path.exists(output_folder):\n",
    "        os.makedirs(output_folder)\n",
    "    print(3)\n",
    "    # Open the video file\n",
    "    cap = cv2.VideoCapture(video_path)\n",
    "    if not cap.isOpened():\n",
    "        print(\"Error: Could not open video file.\")\n",
    "        return\n",
    "\n",
    "    frame_count = 0\n",
    "    num = frame_count\n",
    "    while True:\n",
    "        # Read a frame from the video\n",
    "        ret, frame = cap.read()\n",
    "        if not ret:\n",
    "            break\n",
    "        \n",
    "        frame_count += 1\n",
    "        if (frame_count>=0):\n",
    "\n",
    "            # Write the frame to the output folder\n",
    "            frame_path = os.path.join(output_folder, f\"frame_{frame_count}.jpg\")\n",
    "            cv2.imwrite(frame_path, frame)\n",
    "        if (frame_count>=108000):\n",
    "            print(4)\n",
    "            break\n",
    "    print(5)\n",
    "    cap.release()\n",
    "    frameExtracted = frame_count - num\n",
    "    print(f\"Total frames extracted: {frameExtracted} \")\n",
    "\n",
    "# Example usage\n",
    "path=r\"theVideos/close\"\n",
    "videos=os.listdir(path)\n",
    "i=1\n",
    "print(1.0)\n",
    "for video in videos:\n",
    "    video_path = os.path.join(path,video)\n",
    "    output_folder=video.split('_')[0]+f'cam_{i}'+' 00--03'\n",
    "    print(2)\n",
    "    extract_frames(video_path, output_folder)\n",
    "    \n",
    "    i+=1\n",
    "\n"
   ]
  },
  {
   "cell_type": "markdown",
   "metadata": {},
   "source": [
    "# Making hour long videos from those frames."
   ]
  },
  {
   "cell_type": "code",
   "execution_count": 4,
   "metadata": {},
   "outputs": [
    {
     "name": "stdout",
     "output_type": "stream",
     "text": [
      "Video mid 00--01.mp4 created successfully at hourlyVideos/midCam/mid 00--01.mp4.\n"
     ]
    }
   ],
   "source": [
    "import cv2\n",
    "import os\n",
    "from natsort import natsorted\n",
    "\n",
    "# Path to the directory containing images\n",
    "image_folder = 'hourlyFrame/mid/mid 400658cam_2 00--01'\n",
    "\n",
    "# Path to the directory where the video will be saved\n",
    "output_folder = 'hourlyVideos/midCam'\n",
    "\n",
    "# Ensure the output directory exists\n",
    "os.makedirs(output_folder, exist_ok=True)\n",
    "\n",
    "# Get the list of all files in the directory\n",
    "images = [img for img in os.listdir(image_folder) if img.endswith(\".jpg\")]\n",
    "\n",
    "# Sort the images using natsorted to ensure they are in natural order\n",
    "images = natsorted(images)\n",
    "\n",
    "# Read the first image to get the dimensions\n",
    "frame = cv2.imread(os.path.join(image_folder, images[0]))\n",
    "height, width, layers = frame.shape\n",
    "\n",
    "# Define the codec and create a VideoWriter object\n",
    "video_name = 'mid 00--01.mp4'\n",
    "fourcc = cv2.VideoWriter_fourcc(*'mp4v')\n",
    "fps = 10  # Frames per second\n",
    "video_path = os.path.join(output_folder, video_name)\n",
    "video = cv2.VideoWriter(video_path, fourcc, fps, (width, height))\n",
    "\n",
    "# Iterate through all images and write them to the video\n",
    "for image in images:\n",
    "    img_path = os.path.join(image_folder, image)\n",
    "    frame = cv2.imread(img_path)\n",
    "    video.write(frame)\n",
    "\n",
    "# Release the VideoWriter object\n",
    "video.release()\n",
    "\n",
    "print(f'Video {video_name} created successfully at {video_path}.')\n"
   ]
  },
  {
   "cell_type": "markdown",
   "metadata": {},
   "source": [
    "# Combining the three one hour videos to create synced video"
   ]
  },
  {
   "cell_type": "code",
   "execution_count": 6,
   "metadata": {},
   "outputs": [],
   "source": [
    "import cv2\n",
    "import numpy as np\n",
    "\n",
    "# Function to resize a frame to a specific height while maintaining aspect ratio\n",
    "def resize_frame(frame, height):\n",
    "    (h, w) = frame.shape[:2]\n",
    "    ratio = height / float(h)\n",
    "    dimension = (int(w * ratio), height)\n",
    "    return cv2.resize(frame, dimension, interpolation=cv2.INTER_AREA)\n",
    "\n",
    "# Load the video files\n",
    "cap1 = cv2.VideoCapture('hourlyVideos/farCam/far 00--01.mp4')\n",
    "cap2 = cv2.VideoCapture('hourlyVideos/midCam/mid 00--01.mp4')\n",
    "cap3 = cv2.VideoCapture('hourlyVideos/closeCam/close 00--01.mp4')\n",
    "\n",
    "# Get properties from the first video\n",
    "fps = int(cap1.get(cv2.CAP_PROP_FPS))\n",
    "width = int(cap1.get(cv2.CAP_PROP_FRAME_WIDTH))\n",
    "height = int(cap1.get(cv2.CAP_PROP_FRAME_HEIGHT))\n",
    "\n",
    "# Define the codec and create VideoWriter object\n",
    "fourcc = cv2.VideoWriter_fourcc(*'mp4v')\n",
    "out = cv2.VideoWriter('syncedVideo_00--01.mp4', fourcc, fps, (width * 3, height))\n",
    "\n",
    "while True:\n",
    "    ret1, frame1 = cap1.read()\n",
    "    ret2, frame2 = cap2.read()\n",
    "    ret3, frame3 = cap3.read()\n",
    "\n",
    "    # Break the loop if any of the videos ends\n",
    "    if not ret1 or not ret2 or not ret3:\n",
    "        break\n",
    "\n",
    "    # Resize frames to the same height\n",
    "    frame2 = resize_frame(frame2, height)\n",
    "    frame3 = resize_frame(frame3, height)\n",
    "\n",
    "    # Concatenate frames horizontally\n",
    "    combined_frame = np.hstack((frame1, frame2, frame3))\n",
    "\n",
    "    # Write the combined frame to the output video\n",
    "    out.write(combined_frame)\n",
    "\n",
    "# Release everything when done\n",
    "cap1.release()\n",
    "cap2.release()\n",
    "cap3.release()\n",
    "out.release()\n",
    "cv2.destroyAllWindows()\n"
   ]
  },
  {
   "cell_type": "markdown",
   "metadata": {},
   "source": [
    "# Making frames for the synced video"
   ]
  },
  {
   "cell_type": "code",
   "execution_count": 7,
   "metadata": {},
   "outputs": [
    {
     "name": "stdout",
     "output_type": "stream",
     "text": [
      "Total frames extracted: 36000\n"
     ]
    }
   ],
   "source": [
    "import cv2\n",
    "import os\n",
    "\n",
    "def extract_frames(video_path, output_folder):\n",
    "    # Create output folder if it doesn't exist\n",
    "    if not os.path.exists(output_folder):\n",
    "        os.makedirs(output_folder)\n",
    "\n",
    "    # Open the video file\n",
    "    cap = cv2.VideoCapture(video_path)\n",
    "    if not cap.isOpened():\n",
    "        print(\"Error: Could not open video file.\")\n",
    "        return\n",
    "\n",
    "    frame_count = 0\n",
    "    while True:\n",
    "        # Read a frame from the video\n",
    "        ret, frame = cap.read()\n",
    "        if not ret:\n",
    "            break\n",
    "\n",
    "        frame_count+=1\n",
    "        # Write the frame to the output folder\n",
    "        frame_path = os.path.join(output_folder, f\"frame_{frame_count}.jpg\")\n",
    "        cv2.imwrite(frame_path, frame)\n",
    "\n",
    "\n",
    "    cap.release()\n",
    "    print(f\"Total frames extracted: {frame_count}\")\n",
    "\n",
    "# directory/path of the stiched video\n",
    "video_path=r\"syncedVideo_00--01.mp4\"\n",
    "output_folder='syncedFrame/00--01_hr_frames_stichedvideo'\n",
    "extract_frames(video_path, output_folder)"
   ]
  },
  {
   "cell_type": "markdown",
   "metadata": {},
   "source": [
    "# Finding yellow light frame periods for the closest camera."
   ]
  },
  {
   "cell_type": "code",
   "execution_count": 2,
   "metadata": {},
   "outputs": [
    {
     "name": "stdout",
     "output_type": "stream",
     "text": [
      "Defaulting to user installation because normal site-packages is not writeable\n",
      "Collecting numba\n",
      "  Downloading numba-0.60.0-cp310-cp310-manylinux2014_x86_64.manylinux_2_17_x86_64.whl (3.7 MB)\n",
      "\u001b[2K     \u001b[90m━━━━━━━━━━━━━━━━━━━━━━━━━━━━━━━━━━━━━━━━\u001b[0m \u001b[32m3.7/3.7 MB\u001b[0m \u001b[31m16.0 MB/s\u001b[0m eta \u001b[36m0:00:00\u001b[0m00:01\u001b[0m00:01\u001b[0m\n",
      "\u001b[?25hCollecting llvmlite<0.44,>=0.43.0dev0\n",
      "  Downloading llvmlite-0.43.0-cp310-cp310-manylinux_2_17_x86_64.manylinux2014_x86_64.whl (43.9 MB)\n",
      "\u001b[2K     \u001b[90m━━━━━━━━━━━━━━━━━━━━━━━━━━━━━━━━━━━━━━━━\u001b[0m \u001b[32m43.9/43.9 MB\u001b[0m \u001b[31m9.6 MB/s\u001b[0m eta \u001b[36m0:00:00\u001b[0m:00:01\u001b[0m00:01\u001b[0m\n",
      "\u001b[?25hRequirement already satisfied: numpy<2.1,>=1.22 in /home/marya/.local/lib/python3.10/site-packages (from numba) (1.26.1)\n",
      "Installing collected packages: llvmlite, numba\n",
      "Successfully installed llvmlite-0.43.0 numba-0.60.0\n",
      "Note: you may need to restart the kernel to use updated packages.\n"
     ]
    }
   ],
   "source": [
    "%pip install numba"
   ]
  },
  {
   "cell_type": "code",
   "execution_count": 5,
   "metadata": {},
   "outputs": [
    {
     "name": "stderr",
     "output_type": "stream",
     "text": [
      "Corrupt JPEG data: 426 extraneous bytes before marker 0xd9\n"
     ]
    },
    {
     "name": "stdout",
     "output_type": "stream",
     "text": [
      "[(4, 78), (122, 122), (201, 300), (339, 350), (548, 554), (722, 723), (852, 857), (1081, 1110), (1191, 1240), (1330, 1381), (1442, 1443), (1561, 1561), (1681, 1681), (1696, 1698), (1747, 1747), (1801, 1801), (1881, 1932), (1948, 1991), (2013, 2040), (2067, 2067), (2081, 2083), (2102, 2104), (2149, 2159), (2526, 2532), (2581, 2581), (2594, 2596), (2623, 2625), (2721, 2821), (3023, 3024), (3199, 3282), (3301, 3306), (3659, 3716), (3962, 3962), (4023, 4031), (4214, 4294), (4349, 4383), (4394, 4397), (4564, 4611), (4681, 4681), (4747, 4758), (4775, 4786), (4923, 4924), (4996, 5006), (5027, 5027), (5041, 5041), (5101, 5112), (5158, 5162), (5204, 5223), (5336, 5398), (5461, 5473), (5521, 5550), (5568, 5580), (5651, 5652), (5670, 5704), (5730, 5730), (5770, 5772), (5824, 5832), (5881, 5882), (6185, 6186), (6241, 6269), (6869, 6917), (6931, 6931), (7201, 7205), (7464, 7501), (7562, 7572), (7585, 7586), (7608, 7623), (7748, 7748), (7981, 7981), (8174, 8274), (8312, 8332), (8470, 8473), (8550, 8558), (8575, 8581), (8641, 8641), (8762, 8762), (8821, 8827), (9122, 9140), (9168, 9172), (9364, 9374), (9422, 9425), (9601, 9615), (9783, 9830), (9965, 9969), (9988, 9999), (10208, 10211), (10261, 10282), (10321, 10321), (10356, 10361), (10623, 10631), (10813, 10860), (10981, 10981), (11042, 11054), (11067, 11077), (11161, 11161), (11174, 11174), (11448, 11496), (11604, 11606), (11701, 11724), (11836, 11940), (12001, 12001), (12181, 12181), (12206, 12212), (12312, 12365), (12541, 12555), (12596, 12602), (12713, 12780), (13235, 13252), (13264, 13265), (13324, 13343), (13549, 13621), (14101, 14101), (14343, 14412), (14441, 14445), (14458, 14464), (14582, 14582), (15243, 15259), (15301, 15304), (15320, 15354), (15481, 15481), (15501, 15501), (15601, 15604), (15637, 15641), (15661, 15691), (15704, 15719), (15913, 15960), (16263, 16263), (16428, 16497), (16561, 16561), (16753, 16764), (16790, 16794), (17191, 17270), (17281, 17282), (17402, 17402), (17640, 17688), (17701, 17701), (17714, 17715), (18014, 18016), (18092, 18092), (18169, 18241), (18482, 18482), (18541, 18542), (18672, 18704), (18793, 18800), (19078, 19078), (19164, 19249), (19622, 19638), (19656, 19666), (19759, 19764), (20405, 20460), (20581, 20607), (20624, 20640), (21061, 21098), (21361, 21363), (21374, 21396), (21536, 21586), (22343, 22390), (22563, 22571), (22606, 22614), (22939, 22942), (23102, 23137), (23342, 23394), (23641, 23663), (23695, 23700), (23821, 23821), (23843, 23844), (23856, 23861), (23881, 23881), (23894, 23904), (24684, 24720), (24897, 24900), (25141, 25141), (25983, 26040), (26532, 26580), (26672, 26678), (26990, 27059), (27241, 27247), (27427, 27480), (28739, 28798), (28861, 28889), (28981, 28984), (29041, 29071), (29089, 29100), (29341, 29341), (29362, 29365), (29581, 29588), (29629, 29641), (29973, 29973), (30242, 30242), (30302, 30308), (30631, 30633), (30658, 30658), (30727, 30727), (30781, 30800), (30983, 31003), (31247, 31303), (31314, 31315), (31381, 31381), (31431, 31440), (32101, 32101), (32161, 32161), (32581, 32581), (32701, 32701), (32725, 32733), (32746, 32755), (32866, 32880), (33364, 33365), (33382, 33382), (33721, 33735), (33782, 33807), (33826, 33840), (33919, 33919), (34457, 34560), (34973, 35032), (35881, 35881), (35941, 35961), (36062, 36102), (36181, 36192), (36422, 36435), (36468, 36478), (36601, 36660), (36824, 36832), (37186, 37186), (37201, 37201), (37342, 37393), (37801, 37812), (37838, 37860), (38212, 38261), (38272, 38274), (38821, 38837), (38848, 38865), (39116, 39174), (40026, 40031), (40098, 40099), (40201, 40201), (40797, 40800), (41162, 41162), (41185, 41185), (41218, 41220), (41348, 41396), (41582, 41592), (41845, 41845), (41863, 41880), (42126, 42126), (42200, 42213), (42243, 42245), (42279, 42285), (42396, 42511), (42522, 42531), (42838, 42893), (43005, 43068), (43081, 43092), (43122, 43125), (43171, 43200), (43327, 43336), (43353, 43384), (43924, 43926), (43947, 43980), (44041, 44062), (44073, 44085), (44341, 44353), (44641, 44641), (44841, 44842), (45100, 45156), (45841, 45857), (45915, 45917), (47224, 47230), (47521, 47552), (47719, 47721), (47824, 47839), (48007, 48007), (48061, 48061), (48601, 48601), (48646, 48660), (49021, 49021), (49265, 49283), (49457, 49504), (49542, 49542), (49741, 49741), (49910, 49974), (50461, 50461), (50480, 50486), (50521, 50521), (50702, 50706), (50727, 50727), (50821, 50821), (51181, 51182), (51321, 51360), (51542, 51545), (51601, 51601), (52081, 52081), (52523, 52584), (52682, 52690), (53282, 53303), (53522, 53524), (54101, 54107), (54395, 54452), (54797, 54895), (55399, 55450), (55501, 55545), (55683, 55688), (55715, 55726), (55741, 55753), (56101, 56101), (56161, 56164), (56341, 56359), (56711, 56711), (57002, 57010), (57601, 57605), (58202, 58202), (58501, 58501), (58579, 58593), (58801, 58801), (59169, 59179), (59401, 59401), (59702, 59702), (59761, 59771), (59783, 59794), (60065, 60069), (60841, 60877), (61106, 61119), (61145, 61145), (61201, 61201), (61983, 61986), (62047, 62048), (62341, 62341), (62585, 62591), (63001, 63001), (63113, 63137), (63361, 63367), (63421, 63425), (63534, 63582), (63661, 63661), (63782, 63789), (63809, 63830), (64021, 64037), (64202, 64202), (64741, 64742), (65221, 65225), (65281, 65281), (65521, 65521), (65888, 65940), (66301, 66301), (67021, 67032), (67147, 67148), (67203, 67204), (67743, 67743), (67802, 67804), (67907, 67912), (67981, 68025), (68101, 68101), (68462, 68464), (68488, 68500), (68572, 68572), (68667, 68676), (68821, 68869), (68881, 68881), (69061, 69062), (69241, 69265), (69305, 69323), (69661, 69661), (70142, 70142), (70384, 70384), (71161, 71220), (71761, 71788), (71941, 71941), (72002, 72002), (72219, 72222), (72262, 72269), (72290, 72300), (72422, 72436), (72520, 72574), (72586, 72586), (73201, 73201), (73321, 73321), (73442, 73442), (73457, 73493), (73561, 73564), (73581, 73620), (73884, 73888), (73908, 73912), (74512, 74574), (74641, 74644), (74925, 74993), (75061, 75067), (75497, 75545), (75950, 75998), (76027, 76028), (76494, 76500), (76561, 76576), (76861, 76901), (77101, 77104), (77221, 77224), (77243, 77280), (77401, 77407), (77524, 77536), (77552, 77581), (77593, 77633), (77821, 77821), (77882, 77886), (78061, 78066), (78303, 78303), (78781, 78840), (79029, 79040), (79071, 79080), (79680, 79680), (79907, 79955), (80101, 80115), (80398, 80446), (81363, 81363), (81675, 81757), (81845, 81845), (81996, 81999), (82261, 82263), (82399, 82443), (82984, 82986), (83080, 83083), (83207, 83277), (83641, 83643), (83686, 83703), (83761, 83762), (83821, 83853), (83881, 83881), (84301, 84304), (84361, 84361), (84539, 84591), (84737, 84741), (84793, 84794), (84951, 84999), (85025, 85025), (85227, 85261), (85294, 85320), (85381, 85381), (85504, 85569), (85618, 85620), (85801, 85852), (85921, 85980), (86224, 86232), (86259, 86280), (86370, 86423), (86462, 86463), (86521, 86521), (86581, 86581), (86762, 86805), (87014, 87120), (87241, 87241), (87301, 87306), (87324, 87330), (87532, 87540), (87841, 87891), (87962, 87985), (88003, 88010), (88083, 88090), (88141, 88157), (88261, 88261), (88503, 88537), (88556, 88576), (88921, 88929), (89281, 89281), (89341, 89364), (89425, 89426), (89766, 89813), (90063, 90071), (90091, 90120), (90481, 90484), (90495, 90498), (90517, 90540), (90663, 90670), (90905, 90907), (91381, 91421), (91443, 91443), (91568, 91616), (92281, 92285), (92551, 92640), (92701, 92702), (92715, 92715), (93452, 93515), (93602, 93627), (93655, 93660), (93723, 93723), (93740, 93759), (93781, 93781), (94141, 94141), (94562, 94566), (95284, 95285), (95523, 95532), (95705, 95726), (95866, 95916), (96249, 96297), (96601, 96627), (96803, 96864), (97801, 97801), (98306, 98316), (98341, 98344), (98581, 98581), (98761, 98761), (98944, 98944), (99061, 99066), (99422, 99429), (99566, 99587), (99884, 99965), (100082, 100090), (100141, 100147), (100639, 100652), (100684, 100685), (100747, 100747), (100772, 100776), (100802, 100802), (100921, 100929), (100950, 100980), (101222, 101222), (101513, 101514), (101641, 101653), (101758, 101760), (101943, 101943), (102061, 102064), (102082, 102099), (102181, 102188), (102241, 102241), (102433, 102434), (102472, 102477), (102794, 102847), (102867, 102867), (102891, 102900), (103333, 103338), (103381, 103381), (103627, 103635), (104462, 104462), (105722, 105723), (105758, 105770), (107164, 107164), (107401, 107410), (107461, 107461), (107822, 107871)]\n"
     ]
    }
   ],
   "source": [
    "import cv2\n",
    "from matplotlib import pyplot as plt\n",
    "import numpy as np\n",
    "import os\n",
    " \n",
    "def draw_and_show_bounding_box(image_path, box_coordinates):\n",
    "    # Load the image\n",
    "    image = cv2.imread(image_path)\n",
    "    image = cv2.cvtColor(image, cv2.COLOR_BGR2RGB)  # Convert from BGR to RGB\n",
    "    # Draw the bounding box\n",
    "    x, y, width, height = box_coordinates\n",
    "    roi = image[y:y+height, x:x+width]\n",
    "    hsv_roi = cv2.cvtColor(roi, cv2.COLOR_RGB2HSV)  # Convert ROI to HSV\n",
    "    cv2.rectangle(image, (x, y), (x + width, y + height), (0, 255, 0), 2)\n",
    "    # Check if the ROI contains yellow\n",
    "    is_yellow_present = check_for_yellow(hsv_roi)\n",
    "    return is_yellow_present, image\n",
    " \n",
    "def check_for_yellow(hsv_image):\n",
    "    # Define the range for yellow color in HSV\n",
    "    lower_yellow = np.array([21, 13, 230])\n",
    "    upper_yellow = np.array([42,77, 255])\n",
    "    # Create a mask to extract yellow areas\n",
    "    mask = cv2.inRange(hsv_image, lower_yellow, upper_yellow)\n",
    "    # Check if there are any yellow pixels in the ROI\n",
    "    yellow_pixels = cv2.countNonZero(mask)\n",
    "    return yellow_pixels > 0.2\n",
    " \n",
    "def process_frames_in_folder(folder_path, box_coordinates, merge_threshold=10):\n",
    "    yellow_frames = []  # List to store frame numbers with yellow detected\n",
    "    for filename in os.listdir(folder_path):\n",
    "        if filename.endswith(\".jpg\") or filename.endswith(\".jpeg\"):\n",
    "            image_path = os.path.join(folder_path, filename)\n",
    "            is_yellow_present, _ = draw_and_show_bounding_box(image_path, box_coordinates)\n",
    "            frame_number = int(os.path.splitext(filename)[0].split('_')[-1])  # Assuming frame number is in the filename\n",
    "            if is_yellow_present:\n",
    "                yellow_frames.append(frame_number)\n",
    "    \n",
    "    yellow_frames.sort()  # Sort frame numbers in ascending order\n",
    "    \n",
    "    # Initialize variables to track ranges\n",
    "    ranges = []\n",
    "    start = yellow_frames[0]\n",
    "    end = yellow_frames[0]\n",
    "    \n",
    "    # Iterate through sorted yellow_frames to find ranges\n",
    "    for i in range(1, len(yellow_frames)):\n",
    "        if yellow_frames[i] <= end + merge_threshold:\n",
    "            end = yellow_frames[i]\n",
    "        else:\n",
    "            ranges.append((start, end))\n",
    "            start = yellow_frames[i]\n",
    "            end = yellow_frames[i]\n",
    "    \n",
    "    # Append the last range\n",
    "    ranges.append((start, end))\n",
    "    \n",
    "    print(ranges)\n",
    " \n",
    "folder_path = \"401055cam_1 00--03\"\n",
    "box_coordinates = (480, 74, 10, 10)  # Adjust these coordinates as per your requirement\n",
    " \n",
    "process_frames_in_folder(folder_path, box_coordinates)"
   ]
  },
  {
   "cell_type": "markdown",
   "metadata": {},
   "source": [
    "# Making 20 second yellow light clips"
   ]
  },
  {
   "cell_type": "code",
   "execution_count": 17,
   "metadata": {},
   "outputs": [
    {
     "name": "stdout",
     "output_type": "stream",
     "text": [
      "112\n"
     ]
    },
    {
     "ename": "KeyboardInterrupt",
     "evalue": "",
     "output_type": "error",
     "traceback": [
      "\u001b[0;31m---------------------------------------------------------------------------\u001b[0m",
      "\u001b[0;31mKeyboardInterrupt\u001b[0m                         Traceback (most recent call last)",
      "Cell \u001b[0;32mIn[17], line 52\u001b[0m\n\u001b[1;32m     50\u001b[0m     start \u001b[38;5;241m=\u001b[39m start \u001b[38;5;241m-\u001b[39m \u001b[38;5;241m80\u001b[39m\n\u001b[1;32m     51\u001b[0m     end \u001b[38;5;241m=\u001b[39m end \u001b[38;5;241m+\u001b[39m \u001b[38;5;241m80\u001b[39m\n\u001b[0;32m---> 52\u001b[0m     \u001b[43mcreate_video_clip\u001b[49m\u001b[43m(\u001b[49m\u001b[43mstart\u001b[49m\u001b[43m,\u001b[49m\u001b[43m \u001b[49m\u001b[43mend\u001b[49m\u001b[43m,\u001b[49m\u001b[43m \u001b[49m\u001b[43mframe_directory\u001b[49m\u001b[43m,\u001b[49m\u001b[43m \u001b[49m\u001b[43moutput_directory\u001b[49m\u001b[43m)\u001b[49m\n\u001b[1;32m     54\u001b[0m \u001b[38;5;28mprint\u001b[39m(\u001b[38;5;124m\"\u001b[39m\u001b[38;5;124mVideo clips have been created successfully.\u001b[39m\u001b[38;5;124m\"\u001b[39m)\n",
      "Cell \u001b[0;32mIn[17], line 37\u001b[0m, in \u001b[0;36mcreate_video_clip\u001b[0;34m(start_frame, end_frame, frame_dir, output_dir, fps)\u001b[0m\n\u001b[1;32m     34\u001b[0m video \u001b[38;5;241m=\u001b[39m cv2\u001b[38;5;241m.\u001b[39mVideoWriter(output_file, fourcc, fps, (width, height))\n\u001b[1;32m     36\u001b[0m \u001b[38;5;28;01mfor\u001b[39;00m frame_file \u001b[38;5;129;01min\u001b[39;00m frame_files:\n\u001b[0;32m---> 37\u001b[0m     frame \u001b[38;5;241m=\u001b[39m \u001b[43mcv2\u001b[49m\u001b[38;5;241;43m.\u001b[39;49m\u001b[43mimread\u001b[49m\u001b[43m(\u001b[49m\u001b[43mframe_file\u001b[49m\u001b[43m)\u001b[49m\n\u001b[1;32m     38\u001b[0m     video\u001b[38;5;241m.\u001b[39mwrite(frame)\n\u001b[1;32m     40\u001b[0m video\u001b[38;5;241m.\u001b[39mrelease()\n",
      "\u001b[0;31mKeyboardInterrupt\u001b[0m: "
     ]
    }
   ],
   "source": [
    "import cv2\n",
    "import os\n",
    "\n",
    "# Define the directory containing the frame images\n",
    "frame_directory = 'syncedFrame/05--06_hr_frames_stichedvideo'\n",
    "\n",
    "# Define the yellow frames intervals\n",
    "the_yellow_frames = [(180858, 180911), (181283, 181337), (181956, 182009), (182652, 182705), (183051, 183105), (183519, 183573), (183994, 184047), (184840, 184893), (185349, 185403), (186914, 186968), (187872, 187925), (188289, 188342), (189362, 189416), (189855, 189909), (190275, 190316), (190320, 190322), (190325, 190325), (190855, 190908), (191270, 191323), (191688, 191741), (192174, 192227), (192577, 192630), (193176, 193230), (193719, 193772), (194788, 194842), (195245, 195299), (195702, 195755), (197048, 197102), (198022, 198038), (198040, 198045), (198047, 198049), (198051, 198052), (198054, 198058), (198060, 198061), (198063, 198064), (198067, 198076), (198946, 199000), (199423, 199476), (199926, 199980), (200412, 200466), (200843, 200897), (201924, 201941), (201943, 201948), (201950, 201952), (201954, 201955), (201957, 201958), (201966, 201966), (202789, 202843), (204461, 204515), (205523, 205577), (206248, 206283), (206286, 206286), (206288, 206297), (206299, 206302), (206749, 206802), (207473, 207526), (207938, 207992), (208481, 208534), (209084, 209137), (210123, 210176), (210776, 210829), (211603, 211657), (212769, 212774), (212777, 212778), (212781, 212822), (213341, 213395), (213806, 213859), (214030, 214030), (214047, 214047), (214057, 214060), (214062, 214062), (214711, 214764), (214784, 214784), (214798, 214798), (214808, 214809), (214893, 214894), (214903, 214905), (214926, 214926), (214930, 214931), (214955, 214955), (214962, 214963), (215006, 215007), (215009, 215009), (215011, 215024), (215026, 215032), (215181, 215182), (215184, 215184), (215186, 215189), (215191, 215191), (215193, 215193), (215195, 215195), (215198, 215198), (215200, 215201), (215203, 215203), (215205, 215206), (215208, 215209), (215215, 215215), (215217, 215219), (215221, 215224), (215226, 215233), (215239, 215243), (215245, 215246), (215248, 215249), (215251, 215251), (215253, 215254), (215256, 215256), (215260, 215261), (215263, 215264), (215267, 215268), (215270, 215270), (215745, 215747), (215749, 215799)]\n",
    "\n",
    "print(len(the_yellow_frames))\n",
    "# Function to create a video clip from a sequence of frames\n",
    "def create_video_clip(start_frame, end_frame, frame_dir, output_dir, fps=10):\n",
    "    frame_files = []\n",
    "    \n",
    "    for i in range(start_frame, end_frame + 1):\n",
    "        frame_file = os.path.join(frame_dir, f\"frame_{i}.jpg\")\n",
    "        if os.path.exists(frame_file):\n",
    "            frame_files.append(frame_file)\n",
    "        else:\n",
    "            print(f\"Frame {i} does not exist, skipping...\")\n",
    "            continue\n",
    "    \n",
    "    if not frame_files:\n",
    "        print(f\"No frames found for the interval {start_frame} to {end_frame}. Skipping...\")\n",
    "        return\n",
    "    \n",
    "    # Read the first frame to get the frame size\n",
    "    frame = cv2.imread(frame_files[0])\n",
    "    height, width, layers = frame.shape\n",
    "\n",
    "    # Define the codec and create VideoWriter object\n",
    "    fourcc = cv2.VideoWriter_fourcc(*'mp4v')  # Codec for mp4\n",
    "    output_file = os.path.join(output_dir, f\"clip_{start_frame}_{end_frame}.mp4\")\n",
    "    video = cv2.VideoWriter(output_file, fourcc, fps, (width, height))\n",
    "\n",
    "    for frame_file in frame_files:\n",
    "        frame = cv2.imread(frame_file)\n",
    "        video.write(frame)\n",
    "\n",
    "    video.release()\n",
    "\n",
    "# Directory to save the generated video clips\n",
    "output_directory = 'yellowLight/yellow 05--06'\n",
    "\n",
    "# Ensure the output directory exists\n",
    "os.makedirs(output_directory, exist_ok=True)\n",
    "\n",
    "# Loop through each tuple in the_yellow_frames and create a video clip\n",
    "for start, end in the_yellow_frames:\n",
    "    start = start - 80\n",
    "    end = end + 80\n",
    "    create_video_clip(start, end, frame_directory, output_directory)\n",
    "\n",
    "print(\"Video clips have been created successfully.\")\n"
   ]
  }
 ],
 "metadata": {
  "kernelspec": {
   "display_name": "Python 3",
   "language": "python",
   "name": "python3"
  },
  "language_info": {
   "codemirror_mode": {
    "name": "ipython",
    "version": 3
   },
   "file_extension": ".py",
   "mimetype": "text/x-python",
   "name": "python",
   "nbconvert_exporter": "python",
   "pygments_lexer": "ipython3",
   "version": "3.10.12"
  }
 },
 "nbformat": 4,
 "nbformat_minor": 2
}
